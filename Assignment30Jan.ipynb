{
 "cells": [
  {
   "cell_type": "code",
   "execution_count": 1,
   "id": "4fb1d12c-b1de-4556-a0c2-116efcaa57dc",
   "metadata": {},
   "outputs": [],
   "source": [
    "#Q1. Write a program to accept percentage from the useer and display the grade according to the criteria:\n",
    "# Marks>90 : A\n",
    "# Marks between 80and 90: B\n",
    "# Marks between 60 and 80 : C\n",
    "# Marks below 60:D"
   ]
  },
  {
   "cell_type": "code",
   "execution_count": 9,
   "id": "ff5b8d30-7acb-4ecc-b223-c1601ef9344a",
   "metadata": {},
   "outputs": [
    {
     "name": "stdin",
     "output_type": "stream",
     "text": [
      "Enter your percentage marks obtained:  55\n"
     ]
    },
    {
     "name": "stdout",
     "output_type": "stream",
     "text": [
      "Grade:D\n"
     ]
    }
   ],
   "source": [
    "marks = float(input('Enter your percentage marks obtained: '))\n",
    "if marks>90:\n",
    "    print('Grade:A')\n",
    "elif 80<marks<=90:\n",
    "    print('Grade:B')\n",
    "elif 60<marks<=80:\n",
    "    print('Grade:C')\n",
    "elif marks<=60:\n",
    "    print('Grade:D')\n",
    "    \n",
    "    "
   ]
  },
  {
   "cell_type": "code",
   "execution_count": 10,
   "id": "b88f9b0e-608b-4f98-a461-d4aa1559224c",
   "metadata": {},
   "outputs": [],
   "source": [
    "#Q2: Write a code to accept the cost price of a bike and display the road tax to be paid according to the following criteria:\n",
    "# 15% tax if CP>100000\n",
    "# 10% tax if 50000<CP<=100000\n",
    "# 5% tax if cp<=50000"
   ]
  },
  {
   "cell_type": "code",
   "execution_count": 15,
   "id": "598693e8-c9d3-421a-9c26-dba08b26cb52",
   "metadata": {},
   "outputs": [
    {
     "name": "stdin",
     "output_type": "stream",
     "text": [
      "Enter the Cost price of the bike: 75000\n"
     ]
    },
    {
     "name": "stdout",
     "output_type": "stream",
     "text": [
      "Tax for the bike is  7500.0\n",
      "Total amount for the bike will be 82500.0\n"
     ]
    }
   ],
   "source": [
    "cp=int(input('Enter the Cost price of the bike:'))\n",
    "if cp>100000:\n",
    "    tax=0.15*cp\n",
    "    print('Tax for the cost price of 100000 is ',tax)\n",
    "    total = cp + tax\n",
    "    print('Total amount for the bike will be: ',total)\n",
    "elif 50000<cp<=100000:\n",
    "    tax=0.1*cp\n",
    "    print('Tax for the bike is ',tax)\n",
    "    total= cp + tax\n",
    "    print('Total amount for the bike will be',total)\n",
    "elif cp<=50000:\n",
    "    tax=0.05*cp\n",
    "    print('Tax for the bike will be ',tax)\n",
    "    total=cp+tax\n",
    "    print('Total amount for the bike will be',total)"
   ]
  },
  {
   "cell_type": "code",
   "execution_count": 24,
   "id": "1e1ef83e-db03-4678-a4fb-1b799b702295",
   "metadata": {},
   "outputs": [],
   "source": [
    "# Q3. Accept any city from the user and display monuments of that city:\n",
    "# Cities: Delhi, Agra, Jaipur\n",
    "# Monuments: Redfort, Taj Mahal, Jal Mahal respectively."
   ]
  },
  {
   "cell_type": "code",
   "execution_count": 23,
   "id": "587a9e29-81a4-4c21-b54c-ccc7f38737c1",
   "metadata": {},
   "outputs": [
    {
     "name": "stdin",
     "output_type": "stream",
     "text": [
      "Choose the name of city from Delhi, Agra, Jaipur: Pune\n"
     ]
    },
    {
     "name": "stdout",
     "output_type": "stream",
     "text": [
      "Please pick a name from the given three cities only..\n"
     ]
    }
   ],
   "source": [
    "ciity=input('Choose the name of city from Delhi, Agra, Jaipur:')\n",
    "city=ciity.capitalize()\n",
    "if city=='Delhi':\n",
    "    print(\"Redfort is the monument in Delhi\")\n",
    "elif city=='Agra':\n",
    "    print(\"Taj Mahal is the monumnet in Agra\")\n",
    "elif city=='Jaipur':\n",
    "    print('Jai Mahal is the monumnet in Jaipur')\n",
    "else:\n",
    "    print('Please pick a name from the given three cities only..')"
   ]
  },
  {
   "cell_type": "code",
   "execution_count": 25,
   "id": "1b65e25d-f195-4884-8106-0b4dfa06a1d7",
   "metadata": {},
   "outputs": [],
   "source": [
    "# Q4. Check how many times a given number can be divided by 3 before it becomes less than or equal to 10."
   ]
  },
  {
   "cell_type": "code",
   "execution_count": 10,
   "id": "f8110094-9413-4058-a06a-364f521db338",
   "metadata": {},
   "outputs": [
    {
     "name": "stdin",
     "output_type": "stream",
     "text": [
      "Enter a number:  90\n"
     ]
    },
    {
     "name": "stdout",
     "output_type": "stream",
     "text": [
      "2\n"
     ]
    }
   ],
   "source": [
    "number = int(input(\"Enter a number: \"))\n",
    "count = 0\n",
    "# print(x)\n",
    "while number > 10:\n",
    "    if number%3 == 0:\n",
    "        count = count + 1\n",
    "    number = number / 3\n",
    "print(count)"
   ]
  },
  {
   "cell_type": "code",
   "execution_count": 3,
   "id": "96caa088-c754-4188-bc20-7831b7691048",
   "metadata": {},
   "outputs": [],
   "source": [
    "# Q5 Why and when to use a while loop in python give a detailed description along with an example."
   ]
  },
  {
   "cell_type": "code",
   "execution_count": 1,
   "id": "e6a60859-3674-41ce-bac0-1880d32df93e",
   "metadata": {},
   "outputs": [],
   "source": [
    "# A while loop is used to execute a block of code repeatedly until a given condition is satisfied.\n",
    "# When the condition becomes false it breaks the loop and falls out of it.\n",
    "# A while loop is used in cases where the number of iterations in a loop are genreally not known or certain in advance.\n",
    "# This is in contrary with the for loop where the number of iterations are generally known.\n",
    "# For example, if we consider the above question ie Q4: Check how many times a given number can be divided by 3 before it \n",
    "# becomes less than or equal to 10, the code is :\n",
    "# number = int(input(\"Enter a number: \"))\n",
    "# count = 0\n",
    "# while number > 10:\n",
    "#     if number%3 == 0:\n",
    "#         count = count + 1\n",
    "#     number = number / 3\n",
    "# print(count)\n",
    "# Here the number of times we have to divide the number which user will give us as an input is not certain. \n",
    "# Hence using a while loop will be more appropriate also when we have the condition of number > 10.\n",
    "# So the while loop will continue to iterate as long as the given condition remains valid. "
   ]
  },
  {
   "cell_type": "code",
   "execution_count": 4,
   "id": "41a26b6f-6027-47df-b9e2-dbce8b1f8212",
   "metadata": {},
   "outputs": [],
   "source": [
    "# Q6.Nested loop "
   ]
  },
  {
   "cell_type": "code",
   "execution_count": 5,
   "id": "22adee73-66bd-42d4-a618-31d48688abc8",
   "metadata": {},
   "outputs": [
    {
     "name": "stdin",
     "output_type": "stream",
     "text": [
      "Enter the number of rows 6\n"
     ]
    },
    {
     "name": "stdout",
     "output_type": "stream",
     "text": [
      "\n",
      "1 \n",
      "2 2 \n",
      "3 3 3 \n",
      "4 4 4 4 \n",
      "5 5 5 5 5 \n",
      "6 6 6 6 6 6 \n"
     ]
    }
   ],
   "source": [
    "#Nested loop pattern 1:\n",
    "rows = int(input('Enter the number of rows'))\n",
    "# outer loop\n",
    "for i in range(rows+1):\n",
    "    # nested loop\n",
    "    for j in range(i):\n",
    "        # display number\n",
    "        print(i, end=' ')\n",
    "    # new line after each row\n",
    "    print('')\n",
    "    "
   ]
  },
  {
   "cell_type": "code",
   "execution_count": 6,
   "id": "a9e403d9-7279-44e3-9e66-548c8ed93d19",
   "metadata": {},
   "outputs": [
    {
     "name": "stdout",
     "output_type": "stream",
     "text": [
      "* \n",
      "* * \n",
      "* * * \n",
      "* * * * \n",
      "* * * * * \n"
     ]
    }
   ],
   "source": [
    "# Nested loop Pattern 2:\n",
    "# number of rows\n",
    "rows = 5\n",
    "for i in range(0, rows):\n",
    "    # nested loop for each column\n",
    "    for j in range(0, i + 1):\n",
    "        # print star\n",
    "        print(\"*\", end=' ')\n",
    "    # new line after each row\n",
    "    print(\"\\r\")\n"
   ]
  },
  {
   "cell_type": "code",
   "execution_count": 7,
   "id": "df0b9bde-954c-4b50-b739-71eb7413f6f3",
   "metadata": {},
   "outputs": [
    {
     "name": "stdout",
     "output_type": "stream",
     "text": [
      "5 4 3 2 1 \n",
      "4 3 2 1 \n",
      "3 2 1 \n",
      "2 1 \n",
      "1 \n",
      "\n"
     ]
    }
   ],
   "source": [
    "# Nested loop Pattern 3:\n",
    "rows = 5\n",
    "for i in range(0, rows + 1):\n",
    "    for j in range(rows - i, 0, -1):\n",
    "        print(j, end=' ')\n",
    "    print()"
   ]
  },
  {
   "cell_type": "code",
   "execution_count": 8,
   "id": "e0d09a67-653d-4eae-8593-d3a0e83f50bf",
   "metadata": {},
   "outputs": [
    {
     "name": "stdout",
     "output_type": "stream",
     "text": [
      "10\n",
      "9\n",
      "8\n",
      "7\n",
      "6\n",
      "5\n",
      "4\n",
      "3\n",
      "2\n",
      "1\n"
     ]
    }
   ],
   "source": [
    "# Q7 & 8. while loop to display numbers from 10 to 1.\n",
    "i = 10 \n",
    "while 0 < i  <= 10:\n",
    "    print(i)\n",
    "    i = i - 1"
   ]
  }
 ],
 "metadata": {
  "kernelspec": {
   "display_name": "Python 3 (ipykernel)",
   "language": "python",
   "name": "python3"
  },
  "language_info": {
   "codemirror_mode": {
    "name": "ipython",
    "version": 3
   },
   "file_extension": ".py",
   "mimetype": "text/x-python",
   "name": "python",
   "nbconvert_exporter": "python",
   "pygments_lexer": "ipython3",
   "version": "3.10.8"
  }
 },
 "nbformat": 4,
 "nbformat_minor": 5
}
