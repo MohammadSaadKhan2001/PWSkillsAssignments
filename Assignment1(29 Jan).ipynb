{
 "cells": [
  {
   "cell_type": "code",
   "execution_count": 1,
   "id": "d0b25099-741b-4293-9790-9e1f4505fe12",
   "metadata": {},
   "outputs": [],
   "source": [
    "#Assignment 1 29 Jan, 2022"
   ]
  },
  {
   "cell_type": "code",
   "execution_count": 2,
   "id": "f5d8e241-44d1-4301-9a26-564ec6ca20d3",
   "metadata": {},
   "outputs": [],
   "source": [
    "# Q1. Who developed python programming language?"
   ]
  },
  {
   "cell_type": "code",
   "execution_count": 5,
   "id": "4ce50ac2-477f-4139-84d9-f3d202f273f0",
   "metadata": {},
   "outputs": [],
   "source": [
    "# Ans1. Python was first created by Guido Van Rossum and first released on February 20, 1991."
   ]
  },
  {
   "cell_type": "code",
   "execution_count": 4,
   "id": "4a264140-5bbb-4705-b42b-ff1ff30e6040",
   "metadata": {},
   "outputs": [],
   "source": [
    "# Q2. Which type of programming does python support?"
   ]
  },
  {
   "cell_type": "code",
   "execution_count": 9,
   "id": "dbb0c91e-99a3-4430-bb48-7bf3bfc683d7",
   "metadata": {},
   "outputs": [],
   "source": [
    "# Ans2. Python is a multi paradigm programming language, meaning it supports different types of writing code.\n",
    "# Object Oriented Programming and Structured Programming are fully supported and many of their features support functional programming \n",
    "# and aspect oriented programming.\n"
   ]
  },
  {
   "cell_type": "code",
   "execution_count": 10,
   "id": "179e5f5e-0203-4219-a3cc-7a92da14359b",
   "metadata": {},
   "outputs": [],
   "source": [
    "# Q3. Is python case sensitive when dealing with identifiers?"
   ]
  },
  {
   "cell_type": "code",
   "execution_count": 12,
   "id": "1c2a8ec1-b548-4eba-aa09-d7842e09c664",
   "metadata": {},
   "outputs": [],
   "source": [
    "# Yes, Python is a case-sensitive language, i.e., it treats uppercase and lowercase characters differently.\n",
    "# This applies to identifiers too.\n",
    "# (Python Identifier is the name we give to identify a variable, function, class, module or other object. \n",
    "# That means whenever we want to give an entity a name, that's called identifier.)"
   ]
  },
  {
   "cell_type": "code",
   "execution_count": 13,
   "id": "76a4fd3b-a8e2-43df-90f4-ad962789c3c1",
   "metadata": {},
   "outputs": [],
   "source": [
    "# Q4. What is the correct extension of python file?"
   ]
  },
  {
   "cell_type": "code",
   "execution_count": 14,
   "id": "3f117a60-f33b-4053-aff7-b90d7bd7196b",
   "metadata": {},
   "outputs": [],
   "source": [
    "# The extension of a python file is .py"
   ]
  },
  {
   "cell_type": "code",
   "execution_count": 15,
   "id": "81b2e61c-8f96-400e-8c93-c1ae3ecbde16",
   "metadata": {},
   "outputs": [],
   "source": [
    "# Q5. IS python code compiled or interpreted?"
   ]
  },
  {
   "cell_type": "code",
   "execution_count": 17,
   "id": "e57f7a76-7875-4116-bf6b-424fbbd18aeb",
   "metadata": {},
   "outputs": [],
   "source": [
    "# Ans 5. A compiled language is converted into machine code so that the processor can execute it. \n",
    "# An interpreted language is a language in which the implementations execute instructions directly without \n",
    "# earlier compiling a program into machine language. \n",
    "# Python is an interpreted language, which means the source code of a Python program is converted into \n",
    "# bytecode that is then executed by the Python virtual machine. "
   ]
  },
  {
   "cell_type": "code",
   "execution_count": 18,
   "id": "1f7644fd-0183-4544-93b3-8c17d6b6936a",
   "metadata": {},
   "outputs": [],
   "source": [
    "# Q6. Name a few blocks of code used to define in python language."
   ]
  },
  {
   "cell_type": "code",
   "execution_count": 19,
   "id": "fd3bcb37-f99a-47d3-85ac-af3c48abb9a2",
   "metadata": {},
   "outputs": [],
   "source": [
    "# Ans 6. A block is a piece of Python program text that is executed as a unit. \n",
    "# The following are blocks: a module, a function body, and a class definition. Each command typed interactively is a block."
   ]
  },
  {
   "cell_type": "code",
   "execution_count": 21,
   "id": "77725db9-81b5-45bf-a73b-fa6d9f06dc1f",
   "metadata": {},
   "outputs": [],
   "source": [
    "# Q7. State a character used to give single line comment in python."
   ]
  },
  {
   "cell_type": "code",
   "execution_count": 22,
   "id": "14a07f07-b134-45e2-8b35-a807ae3e5658",
   "metadata": {},
   "outputs": [],
   "source": [
    "# Ans 7. We can write a single-line comment by adding a single # character before any statement or line of code."
   ]
  },
  {
   "cell_type": "code",
   "execution_count": 23,
   "id": "51a9d147-78ec-4eb7-91a2-e1ec77a8ba4c",
   "metadata": {},
   "outputs": [],
   "source": [
    "# Q8. Mention functions which can help us to find the version of python we are currently working on."
   ]
  },
  {
   "cell_type": "code",
   "execution_count": 24,
   "id": "cfae734f-9313-4036-8dd0-e6982fb62d76",
   "metadata": {},
   "outputs": [],
   "source": [
    "# Ans 8. Using sys.version method\n",
    "# Using python_version() function\n",
    "# Using Python -V command"
   ]
  },
  {
   "cell_type": "code",
   "execution_count": 25,
   "id": "cc076bab-d71c-4663-a579-62931cd4f95d",
   "metadata": {},
   "outputs": [],
   "source": [
    "# Q9.  Python supports the creation of anonymous functions at runtime, using a construct called____ "
   ]
  },
  {
   "cell_type": "code",
   "execution_count": 27,
   "id": "c4b59ee8-ece6-4e5a-aea0-75e381ebfb2d",
   "metadata": {},
   "outputs": [],
   "source": [
    "# Ans 9. Python supports the creation of anonymous functions (i.e. functions that are not bound to a name) at runtime, \n",
    "# using a construct called lambda. Lambda functions are restricted to a single expression. \n",
    "# They can be used wherever normal functions can be used."
   ]
  },
  {
   "cell_type": "code",
   "execution_count": 28,
   "id": "6de9940c-54e8-4a29-94bd-4b2c7d89bdd2",
   "metadata": {},
   "outputs": [],
   "source": [
    "# Q10. What does pip stand for in python?"
   ]
  },
  {
   "cell_type": "code",
   "execution_count": 29,
   "id": "07a3b8a2-0b71-4b81-a2af-4127001771b1",
   "metadata": {},
   "outputs": [],
   "source": [
    "# Ans 10. pip stands for \"Preferred installer program\"\n",
    "# It is a command-line utility that installs, reinstalls, or uninstalls PyPI packages with one simple command: pip."
   ]
  },
  {
   "cell_type": "code",
   "execution_count": 30,
   "id": "9401de06-4efb-415e-b30a-060590caaff6",
   "metadata": {},
   "outputs": [],
   "source": [
    "# Q11. Mention a few built in functions in python."
   ]
  },
  {
   "cell_type": "code",
   "execution_count": 32,
   "id": "e5f98d3f-c905-466e-bc78-e7c50850c303",
   "metadata": {},
   "outputs": [],
   "source": [
    "# Ans 11. 1) print()- this is a built in function in python that will print anything we enter in paranthesis.\n",
    "# 2) len()- returns the length of an object.\n",
    "# 3) int()- returns an integer number.\n",
    "# 4) float() - returns a floating point number.\n",
    "# 5) type() - returns the type of an object."
   ]
  },
  {
   "cell_type": "code",
   "execution_count": 33,
   "id": "5c6eb623-dd67-41ec-a904-91868dea6068",
   "metadata": {},
   "outputs": [],
   "source": [
    "# Q 12. What is the maximun possible length of an identifier in python?"
   ]
  },
  {
   "cell_type": "code",
   "execution_count": 34,
   "id": "246fb9de-4ec5-4927-8e92-e10e1b279eea",
   "metadata": {},
   "outputs": [],
   "source": [
    "# An identifier can have a maximum length of 79 characters in Python. "
   ]
  },
  {
   "cell_type": "code",
   "execution_count": 35,
   "id": "82eb8e34-b50d-4f51-8ccd-703bcb83fd25",
   "metadata": {},
   "outputs": [],
   "source": [
    "# Q13. What are the benefits of using python?"
   ]
  },
  {
   "cell_type": "code",
   "execution_count": 36,
   "id": "78108be0-dd83-4990-b5da-458d975fd429",
   "metadata": {},
   "outputs": [],
   "source": [
    "# Ans13. Following are the benefits of python:\n",
    "# 1) Easy to learn, understand and use,\n",
    "# 2) Wide applications,\n",
    "# 3) Easy syntax,\n",
    "# 4) Is free and open source,\n",
    "# 5) Is dynamically typed, i.e., we dont have to mention the type of data assigned to a variable."
   ]
  },
  {
   "cell_type": "code",
   "execution_count": 37,
   "id": "9f789ffa-b1a2-4aad-9865-98ca9eee9c11",
   "metadata": {},
   "outputs": [],
   "source": [
    "# Q14. How is memory managed in python?"
   ]
  },
  {
   "cell_type": "code",
   "execution_count": 38,
   "id": "2af0c2ee-ac11-4732-9a4b-75363c0e5905",
   "metadata": {},
   "outputs": [],
   "source": [
    "# Ans14. Memory management in Python involves a private heap containing all Python objects and data structures.\n",
    "#The management of this private heap is ensured internally by the Python memory manager."
   ]
  },
  {
   "cell_type": "code",
   "execution_count": 39,
   "id": "fe9f4e46-72d3-4c0d-9c06-ddcae143627c",
   "metadata": {},
   "outputs": [],
   "source": [
    "# Q15. How to install python in Windows and set path variables?"
   ]
  },
  {
   "cell_type": "code",
   "execution_count": 40,
   "id": "069c89e2-d4ad-450d-b170-e364fcbc9e3c",
   "metadata": {},
   "outputs": [],
   "source": [
    "#Ans15. Steps to install Python on Windows\n",
    "#Step 1: Select Version of Python to Install.\n",
    "#Step 2: Download Python Executable Installer.\n",
    "#Step 3: Run Executable Installer.\n",
    "#Step 4: Verify Python Was Installed On Windows.\n",
    "#Step 5: Verify Pip Was Installed.\n",
    "#Step 6: Add Python Path to Environment Variables (Optional)\n",
    "#Step 7: Install virtualnv (Optional)\n",
    "\n",
    "#The complete path of python.exe can be added by:\n",
    "#1)Right-clicking This PC and going to Properties.\n",
    "#2)Clicking on the Advanced system settings in the menu on the left.\n",
    "#3)Clicking on the Environment Variables button on the bottom right.\n",
    "#4)In the System variables section, selecting the Path variable and clicking on Edit. \n",
    "# The next screen will show all the directories that are currently #a part of the PATH variable.\n",
    "#5)Clicking on New and entering Python’s install directory.\n",
    "\n",
    "#Python can now be used directly from the command prompt without having to write its location. \n",
    "#Try executing the command python --version; it will #output the version of Python installed on your system."
   ]
  },
  {
   "cell_type": "code",
   "execution_count": 41,
   "id": "89391e56-2f5d-43ca-987f-e77364d6147b",
   "metadata": {},
   "outputs": [],
   "source": [
    "# Q16. Is indentation required in python?"
   ]
  },
  {
   "cell_type": "code",
   "execution_count": null,
   "id": "863d7225-1182-4c2e-9db8-de20eef6762c",
   "metadata": {},
   "outputs": [],
   "source": [
    "# Yes, indentation is required in python.\n",
    "# Indentation refers to the spaces at the beginning of a code line. Where in other programming languages the indentation in code is for readability #only, the indentation in Python is very important. \n",
    "# Python uses indentation to indicate a block of code."
   ]
  }
 ],
 "metadata": {
  "kernelspec": {
   "display_name": "Python 3 (ipykernel)",
   "language": "python",
   "name": "python3"
  },
  "language_info": {
   "codemirror_mode": {
    "name": "ipython",
    "version": 3
   },
   "file_extension": ".py",
   "mimetype": "text/x-python",
   "name": "python",
   "nbconvert_exporter": "python",
   "pygments_lexer": "ipython3",
   "version": "3.10.8"
  }
 },
 "nbformat": 4,
 "nbformat_minor": 5
}
