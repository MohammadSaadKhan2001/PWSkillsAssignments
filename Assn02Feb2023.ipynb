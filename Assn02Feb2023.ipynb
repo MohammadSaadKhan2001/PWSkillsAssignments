{
 "cells": [
  {
   "cell_type": "code",
   "execution_count": 1,
   "id": "950067d7-cac2-495e-888e-bbd3b71e5d00",
   "metadata": {},
   "outputs": [],
   "source": [
    "# Q1 Explain with an example each when to use for loop and while loop."
   ]
  },
  {
   "cell_type": "code",
   "execution_count": 29,
   "id": "572532ea-4ebe-4562-a455-d073b5cf5605",
   "metadata": {},
   "outputs": [],
   "source": [
    "# The for loop is used when we already know the number of iterations, which means when we know how many times a statement has to be executed. \n",
    "# That is why we have to specify the ending point in the for loop initialization.\n",
    "# When we need to end the loop on a condition other than the number of times, we use a while loop. \n",
    "# In this case, it is not necessary to know he condition beforehand. \n",
    "# That is why we can give a boolean expression in the initialization of the loop."
   ]
  },
  {
   "cell_type": "code",
   "execution_count": 3,
   "id": "032f2405-cd4d-4589-8426-500da1158bdd",
   "metadata": {},
   "outputs": [
    {
     "name": "stdout",
     "output_type": "stream",
     "text": [
      "1\n",
      "2\n",
      "3\n",
      "4\n",
      "5\n"
     ]
    }
   ],
   "source": [
    "# Example for while loop:\n",
    "i = 1  # Initialization\n",
    "while i < 6:  # Condition\n",
    "    print(i)\n",
    "    i += 1  # Updation"
   ]
  },
  {
   "cell_type": "code",
   "execution_count": 4,
   "id": "e239a35d-5677-4e0a-bc58-db9b4c3039c2",
   "metadata": {},
   "outputs": [
    {
     "name": "stdout",
     "output_type": "stream",
     "text": [
      "1\n",
      "2\n",
      "3\n"
     ]
    }
   ],
   "source": [
    "# Example for for loop:\n",
    "n = [1, 2, 3]  # Initialization\n",
    "for i in n:  # Condition and Updation\n",
    "    print(i)"
   ]
  },
  {
   "cell_type": "code",
   "execution_count": 8,
   "id": "df5193d8-a116-4014-af14-7d1ce7b2e977",
   "metadata": {},
   "outputs": [],
   "source": [
    "# Q2 Write a python program to print sum and product of first 10 natural numbers using for and while loop."
   ]
  },
  {
   "cell_type": "code",
   "execution_count": 9,
   "id": "f5106fb2-3b18-494d-a164-fad5b492c931",
   "metadata": {},
   "outputs": [
    {
     "name": "stdout",
     "output_type": "stream",
     "text": [
      "55\n"
     ]
    }
   ],
   "source": [
    "# Sum using while loop:\n",
    "i = 1\n",
    "sum = 0\n",
    "while i <= 10:\n",
    "    sum = sum + i\n",
    "    i = i + 1\n",
    "print(sum)"
   ]
  },
  {
   "cell_type": "code",
   "execution_count": 10,
   "id": "6eaf1866-0651-4f29-bedd-394402d51b42",
   "metadata": {},
   "outputs": [
    {
     "name": "stdout",
     "output_type": "stream",
     "text": [
      "55\n"
     ]
    }
   ],
   "source": [
    "# Sum using for loop:\n",
    "n = [1,2,3,4,5,6,7,8,9,10]\n",
    "sum = 0\n",
    "for i in n:\n",
    "    sum = sum + i\n",
    "    i = i + 1\n",
    "print(sum)"
   ]
  },
  {
   "cell_type": "code",
   "execution_count": 11,
   "id": "54e9ad32-85fd-4aa7-87bf-74b977d1036a",
   "metadata": {},
   "outputs": [
    {
     "name": "stdout",
     "output_type": "stream",
     "text": [
      "3628800\n"
     ]
    }
   ],
   "source": [
    "# Product using while loop:\n",
    "i = 1\n",
    "product = 1\n",
    "while i <= 10:\n",
    "    product = product * i\n",
    "    i = i + 1\n",
    "print(product)"
   ]
  },
  {
   "cell_type": "code",
   "execution_count": 12,
   "id": "26687f7d-6114-4ecc-962a-ca82430e8b98",
   "metadata": {},
   "outputs": [
    {
     "name": "stdout",
     "output_type": "stream",
     "text": [
      "3628800\n"
     ]
    }
   ],
   "source": [
    "# Product using for loop:\n",
    "n = [1,2,3,4,5,6,7,8,9,10]\n",
    "product = 1\n",
    "for i in n:\n",
    "    product = product * i\n",
    "    i += 1\n",
    "print(product)"
   ]
  },
  {
   "cell_type": "code",
   "execution_count": 13,
   "id": "fff19461-7c1d-4776-bf81-e481baf5be31",
   "metadata": {},
   "outputs": [],
   "source": [
    "# Q3 Create a python program to compute the electricity bill for a household.\n",
    "# The per-unit charges in rupees are as follows: For the first 100 units, the user will be charged Rs. 4.5 per\n",
    "# unit, for the next 100 units, the user will be charged Rs. 6 per unit, and for the next 100 units, the user will\n",
    "# be charged Rs. 10 per unit, After 300 units and above the user will be charged Rs. 20 per unit.\n",
    "# You are required to take the units of electricity consumed in a month from the user as input.\n",
    "# Your program must pass this test case: when the unit of electricity consumed by the user in a month is\n",
    "# 310, the total electricity bill should be 2250."
   ]
  },
  {
   "cell_type": "code",
   "execution_count": 14,
   "id": "0289861c-f4fc-48a4-97eb-876bea05437d",
   "metadata": {},
   "outputs": [
    {
     "name": "stdin",
     "output_type": "stream",
     "text": [
      "Enter the number of units consumed : 310\n"
     ]
    },
    {
     "name": "stdout",
     "output_type": "stream",
     "text": [
      " The electricity bill for your household is   2250\n"
     ]
    }
   ],
   "source": [
    "units = int(input(\"Enter the number of units consumed :\"))\n",
    "bill = 0\n",
    "if units <= 100:\n",
    "    bill = 4.5 * units\n",
    "    print(\" The electricity bill for your household is  \", bill)\n",
    "elif units <= 200:\n",
    "    units = units - 100\n",
    "    bill = 450 + ( units * 6)\n",
    "    print(\" The electricity bill for your household is  \", bill)\n",
    "elif units <= 300:\n",
    "    units = units - 200\n",
    "    bill = 1050 + ( units * 10)\n",
    "    print(\" The electricity bill for your household is  \", bill)\n",
    "elif units > 300:\n",
    "    units = units - 300\n",
    "    bill = 2050 + ( units * 20)\n",
    "    print(\" The electricity bill for your household is  \", bill)"
   ]
  },
  {
   "cell_type": "code",
   "execution_count": 25,
   "id": "d80a20fa-bb08-4692-a761-6ed71ff32b64",
   "metadata": {},
   "outputs": [
    {
     "name": "stdout",
     "output_type": "stream",
     "text": [
      "[1, 8, 27, 64, 125, 216, 343, 512, 729, 1000, 1331, 1728, 2197, 2744, 3375, 4096, 4913, 5832, 6859, 8000, 9261, 10648, 12167, 13824, 15625, 17576, 19683, 21952, 24389, 27000, 29791, 32768, 35937, 39304, 42875, 46656, 50653, 54872, 59319, 64000, 68921, 74088, 79507, 85184, 91125, 97336, 103823, 110592, 117649, 125000, 132651, 140608, 148877, 157464, 166375, 175616, 185193, 195112, 205379, 216000, 226981, 238328, 250047, 262144, 274625, 287496, 300763, 314432, 328509, 343000, 357911, 373248, 389017, 405224, 421875, 438976, 456533, 474552, 493039, 512000, 531441, 551368, 571787, 592704, 614125, 636056, 658503, 681472, 704969, 729000, 753571, 778688, 804357, 830584, 857375, 884736, 912673, 941192, 970299, 1000000]\n",
      "[8, 64, 125, 216, 512, 1000, 1728, 2744, 3375, 4096, 5832, 8000, 10648, 13824, 15625, 17576, 21952, 27000, 32768, 39304, 42875, 46656, 54872, 64000, 74088, 85184, 91125, 97336, 110592, 125000, 140608, 157464, 166375, 175616, 195112, 216000, 238328, 262144, 274625, 287496, 314432, 343000, 373248, 405224, 421875, 438976, 474552, 512000, 551368, 592704, 614125, 636056, 681472, 729000, 778688, 830584, 857375, 884736, 941192, 1000000]\n"
     ]
    }
   ],
   "source": [
    "# Q4 Create a list of numbers from 1 to 100. Use for loop and while loop to calculate the cube of each\n",
    "# number and if the cube of that number is divisible by 4 or 5 then append that number in a list and print\n",
    "# that list.\n",
    "l = list(range(1,101))\n",
    "# by using for loop comprehension \n",
    "l3 = [i**3 for i in l]\n",
    "# by using while loop:\n",
    "# i = 1\n",
    "# l3 = []\n",
    "# while i<= 100:\n",
    "#     l3.append(i**3)\n",
    "#     i += 1\n",
    "print(l3)\n",
    "l4 = [i for i in l3 if i%4 == 0 or i%5 == 0]\n",
    "print(l4)"
   ]
  },
  {
   "cell_type": "code",
   "execution_count": 28,
   "id": "16f201f2-c30b-40c6-b00d-1d0d78cc42ae",
   "metadata": {},
   "outputs": [
    {
     "name": "stdout",
     "output_type": "stream",
     "text": [
      "12\n"
     ]
    }
   ],
   "source": [
    "# Q5. Write a program to filter count vowels in the below-given string.\n",
    "string = \"I want to become a data scientist\"\n",
    "v = [ 'a', 'e', 'i', 'o', 'u' ]\n",
    "count = 0\n",
    "for i in string :\n",
    "    if i.lower() in v:\n",
    "        count = count + 1\n",
    "    else :\n",
    "        continue\n",
    "print(count)"
   ]
  }
 ],
 "metadata": {
  "kernelspec": {
   "display_name": "Python 3 (ipykernel)",
   "language": "python",
   "name": "python3"
  },
  "language_info": {
   "codemirror_mode": {
    "name": "ipython",
    "version": 3
   },
   "file_extension": ".py",
   "mimetype": "text/x-python",
   "name": "python",
   "nbconvert_exporter": "python",
   "pygments_lexer": "ipython3",
   "version": "3.10.8"
  }
 },
 "nbformat": 4,
 "nbformat_minor": 5
}
